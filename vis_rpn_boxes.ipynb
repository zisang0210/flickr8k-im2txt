{
 "cells": [
  {
   "cell_type": "code",
   "execution_count": 1,
   "metadata": {},
   "outputs": [
    {
     "ename": "ImportError",
     "evalue": "cannot import name 'att_nic_vocab'",
     "output_type": "error",
     "traceback": [
      "\u001b[0;31m---------------------------------------------------------------------------\u001b[0m",
      "\u001b[0;31mImportError\u001b[0m                               Traceback (most recent call last)",
      "\u001b[0;32m<ipython-input-1-48e38476c49a>\u001b[0m in \u001b[0;36m<module>\u001b[0;34m()\u001b[0m\n\u001b[1;32m      1\u001b[0m \u001b[0;32mfrom\u001b[0m \u001b[0minference\u001b[0m \u001b[0;32mimport\u001b[0m \u001b[0;34m*\u001b[0m\u001b[0;34m\u001b[0m\u001b[0m\n\u001b[1;32m      2\u001b[0m \u001b[0;32mfrom\u001b[0m \u001b[0mutils\u001b[0m \u001b[0;32mimport\u001b[0m \u001b[0mvocabulary\u001b[0m\u001b[0;34m\u001b[0m\u001b[0m\n\u001b[0;32m----> 3\u001b[0;31m \u001b[0;32mfrom\u001b[0m \u001b[0mutils\u001b[0m \u001b[0;32mimport\u001b[0m \u001b[0matt_nic_vocab\u001b[0m\u001b[0;34m\u001b[0m\u001b[0m\n\u001b[0m\u001b[1;32m      4\u001b[0m \u001b[0;32mimport\u001b[0m \u001b[0mcv2\u001b[0m\u001b[0;34m\u001b[0m\u001b[0m\n\u001b[1;32m      5\u001b[0m \u001b[0;32mimport\u001b[0m \u001b[0mnumpy\u001b[0m \u001b[0;32mas\u001b[0m \u001b[0mnp\u001b[0m\u001b[0;34m\u001b[0m\u001b[0m\n",
      "\u001b[0;31mImportError\u001b[0m: cannot import name 'att_nic_vocab'"
     ]
    }
   ],
   "source": [
    "from inference import *\n",
    "from utils import vocabulary\n",
    "from utils import att_nic_vocab\n",
    "import cv2\n",
    "import numpy as np\n",
    "import matplotlib.pyplot as plt\n",
    "%matplotlib inline"
   ]
  },
  {
   "cell_type": "code",
   "execution_count": null,
   "metadata": {
    "collapsed": true
   },
   "outputs": [],
   "source": [
    "faster_rcnn = FasterRcnnEncoder('../data/frozen_faster_rcnn.pb')"
   ]
  },
  {
   "cell_type": "code",
   "execution_count": null,
   "metadata": {
    "collapsed": true
   },
   "outputs": [],
   "source": [
    "def draw_box(pic, boxes):\n",
    "    \"\"\"\n",
    "    [y1,x1,y2,x2] (y1,x1)represent top left corner, \n",
    "    (y2,x2)represent bottom right corner, while y is height,x is width\n",
    "    \"\"\"\n",
    "    color=[(255, 0, 0),(0, 255, 0),(0, 0, 255),\n",
    "           (255, 255, 0),(255, 0, 255),(0, 255, 255),\n",
    "           (255, 255, 255),(0, 0, 0),(0, 125, 125),(125, 125, 125)]\n",
    "    im_height,im_width = pic.shape[0:2]\n",
    "    print(im_width, im_height,boxes.shape[0])\n",
    "    draw = pic\n",
    "    for b in range(boxes.shape[0]):\n",
    "        h_start = int(boxes[b,0]*im_height)\n",
    "        w_start = int(boxes[b,1]*im_width)\n",
    "        h_end = int(boxes[b,2]*im_height)\n",
    "        w_end = int(boxes[b,3]*im_width)\n",
    "\n",
    "        draw = cv2.rectangle(draw, (w_start, h_start), (w_end, h_end), color[b], 2) \n",
    "        \n",
    "        print((w_start, h_start), (w_end, h_end))\n",
    "    return draw"
   ]
  },
  {
   "cell_type": "code",
   "execution_count": null,
   "metadata": {
    "collapsed": true
   },
   "outputs": [],
   "source": [
    "# image = cv2.imread(\"./test/images/1.jpg\")\n",
    "image = cv2.imread(\"/home/zisang/Documents/code/data/Flicker8k/Flicker8k_Dataset/667626_18933d713e.jpg\")"
   ]
  },
  {
   "cell_type": "code",
   "execution_count": null,
   "metadata": {
    "collapsed": true
   },
   "outputs": [],
   "source": [
    "\n",
    "# cv2.imshow('image',img_draw)\n",
    "# cv2.waitKey(0)"
   ]
  },
  {
   "cell_type": "code",
   "execution_count": null,
   "metadata": {
    "collapsed": true
   },
   "outputs": [],
   "source": [
    "image_np = load_image_into_numpy_array('./test/images/2.jpg')\n",
    "box, feat = faster_rcnn.encode(image_np)\n",
    "print(box)\n",
    "i=0\n",
    "#     cv2.imwrite(\"origin.jpg\", img_draw)\n"
   ]
  },
  {
   "cell_type": "code",
   "execution_count": null,
   "metadata": {
    "collapsed": true
   },
   "outputs": [],
   "source": [
    "img_draw = np.array(image_np)\n",
    "img_draw = draw_box(img_draw, box[i*10:(i+1)*10,:])\n",
    "plt.figure(figsize=(16,8))\n",
    "plt.imshow(img_draw)\n",
    "i=i+1"
   ]
  }
 ],
 "metadata": {
  "kernelspec": {
   "display_name": "Python 3",
   "language": "python",
   "name": "python3"
  },
  "language_info": {
   "codemirror_mode": {
    "name": "ipython",
    "version": 3
   },
   "file_extension": ".py",
   "mimetype": "text/x-python",
   "name": "python",
   "nbconvert_exporter": "python",
   "pygments_lexer": "ipython3",
   "version": "3.6.3"
  }
 },
 "nbformat": 4,
 "nbformat_minor": 2
}
